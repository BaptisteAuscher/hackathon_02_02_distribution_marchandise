{
 "cells": [
  {
   "cell_type": "code",
   "execution_count": 55,
   "id": "98b22a0e-6833-4a42-a830-e80759047339",
   "metadata": {},
   "outputs": [
    {
     "name": "stdout",
     "output_type": "stream",
     "text": [
      "{'resource': 'bdtopo-osrm', 'resourceVersion': '2023-11-02', 'start': '2.339874,48.845587', 'end': '2.33652,48.837324', 'profile': 'car', 'optimization': 'fastest', 'geometry': {'coordinates': [[2.339874, 48.845587], [2.339191, 48.84431], [2.338983, 48.843925], [2.338668, 48.843363], [2.3382, 48.842505], [2.337756, 48.841755], [2.337467, 48.841247], [2.337256, 48.840875], [2.336833, 48.840525], [2.336725, 48.840429], [2.33667, 48.840368], [2.336618, 48.840296], [2.336599, 48.840254], [2.33659, 48.840219], [2.336582, 48.84018], [2.336576, 48.840137], [2.336576, 48.840066], [2.336554, 48.839769], [2.336657, 48.839671], [2.33666, 48.839333], [2.336634, 48.838883], [2.33662, 48.83862], [2.336478, 48.838523], [2.336382, 48.838455], [2.336305, 48.838394], [2.335676, 48.837758], [2.335587, 48.837667], [2.33543, 48.837511], [2.334876, 48.836939], [2.33464, 48.836704], [2.334476, 48.836536], [2.334315, 48.836373], [2.33417, 48.836228], [2.334056, 48.836117], [2.333502, 48.835546], [2.333243, 48.835247], [2.333061, 48.835037], [2.332998, 48.834961], [2.332886, 48.834828], [2.332765, 48.8347], [2.332617, 48.834545], [2.33252, 48.834532], [2.332448, 48.834511], [2.332403, 48.834485], [2.332353, 48.834443], [2.332307, 48.834391], [2.332287, 48.834323], [2.33229, 48.834275], [2.332312, 48.834233], [2.332355, 48.83419], [2.332507, 48.834221], [2.33256, 48.83424], [2.332617, 48.834267], [2.332674, 48.834299], [2.332716, 48.834336], [2.332768, 48.834413], [2.332747, 48.834461], [2.332718, 48.834494], [2.332676, 48.834523], [2.332617, 48.834545], [2.332765, 48.8347], [2.332886, 48.834828], [2.332998, 48.834961], [2.333061, 48.835037], [2.333243, 48.835247], [2.333502, 48.835546], [2.334056, 48.836117], [2.33417, 48.836228], [2.334315, 48.836373], [2.334476, 48.836536], [2.33464, 48.836704], [2.334876, 48.836939], [2.33543, 48.837511], [2.335587, 48.837667], [2.335703, 48.837625], [2.33652, 48.837324]], 'type': 'LineString'}, 'crs': 'EPSG:4326', 'distanceUnit': 'meter', 'timeUnit': 'minute', 'bbox': [2.332287, 48.83419, 2.339874, 48.845587], 'distance': 1969.7, 'duration': 6.33, 'constraints': [], 'portions': [{'start': '2.339874,48.845587', 'end': '2.33652,48.837324', 'distance': 1969.7, 'duration': 6.33, 'bbox': [2.332287, 48.83419, 2.339874, 48.845587], 'steps': [{'geometry': {'coordinates': [[2.339874, 48.845587], [2.339191, 48.84431], [2.338983, 48.843925], [2.338668, 48.843363], [2.3382, 48.842505], [2.337756, 48.841755], [2.337467, 48.841247], [2.337256, 48.840875]], 'type': 'LineString'}, 'attributes': {'name': {'nom_1_gauche': 'BD SAINT-MICHEL', 'nom_1_droite': 'BD SAINT-MICHEL', 'cpx_numero': '', 'cpx_toponyme': ''}}, 'distance': 558.1, 'duration': 1.5016666666666667, 'instruction': {'type': 'depart', 'modifier': 'right'}}, {'geometry': {'coordinates': [[2.337256, 48.840875], [2.336833, 48.840525], [2.336725, 48.840429], [2.33667, 48.840368], [2.336618, 48.840296], [2.336599, 48.840254], [2.33659, 48.840219], [2.336582, 48.84018], [2.336576, 48.840137], [2.336576, 48.840066], [2.336554, 48.839769], [2.336657, 48.839671]], 'type': 'LineString'}, 'attributes': {'name': {'nom_1_gauche': \"AV DE L'OBSERVATOIRE\", 'nom_1_droite': \"AV DE L'OBSERVATOIRE\", 'cpx_numero': '', 'cpx_toponyme': ''}}, 'distance': 152, 'duration': 0.6616666666666666, 'instruction': {'type': 'new name', 'modifier': 'straight'}}, {'geometry': {'coordinates': [[2.336657, 48.839671], [2.33666, 48.839333], [2.336634, 48.838883], [2.33662, 48.83862]], 'type': 'LineString'}, 'attributes': {'name': {'nom_1_gauche': \"AV DE L'OBSERVATOIRE\", 'nom_1_droite': \"AV DE L'OBSERVATOIRE\", 'cpx_numero': '', 'cpx_toponyme': ''}}, 'distance': 117, 'duration': 0.315, 'instruction': {'type': 'turn', 'modifier': 'slight left'}}, {'geometry': {'coordinates': [[2.33662, 48.83862], [2.336478, 48.838523], [2.336382, 48.838455], [2.336305, 48.838394], [2.335676, 48.837758], [2.335587, 48.837667], [2.33543, 48.837511], [2.334876, 48.836939], [2.33464, 48.836704], [2.334476, 48.836536], [2.334315, 48.836373], [2.33417, 48.836228], [2.334056, 48.836117], [2.333502, 48.835546], [2.333243, 48.835247], [2.333061, 48.835037], [2.332998, 48.834961], [2.332886, 48.834828], [2.332765, 48.8347], [2.332617, 48.834545]], 'type': 'LineString'}, 'attributes': {'name': {'nom_1_gauche': 'AV DENFERT-ROCHEREAU', 'nom_1_droite': 'AV DENFERT-ROCHEREAU', 'cpx_numero': '', 'cpx_toponyme': ''}}, 'distance': 540.4, 'duration': 1.51, 'instruction': {'type': 'turn', 'modifier': 'right'}}, {'geometry': {'coordinates': [[2.332617, 48.834545], [2.33252, 48.834532], [2.332448, 48.834511], [2.332403, 48.834485], [2.332353, 48.834443], [2.332307, 48.834391]], 'type': 'LineString'}, 'attributes': {'name': {'nom_1_gauche': 'PL DENFERT-ROCHEREAU', 'nom_1_droite': 'PL DENFERT-ROCHEREAU', 'cpx_numero': '', 'cpx_toponyme': ''}}, 'distance': 30, 'duration': 0.175, 'instruction': {'type': 'turn', 'modifier': 'slight right'}}, {'geometry': {'coordinates': [[2.332307, 48.834391], [2.332287, 48.834323], [2.33229, 48.834275], [2.332312, 48.834233], [2.332355, 48.83419]], 'type': 'LineString'}, 'attributes': {'name': {'nom_1_gauche': 'PL DENFERT-ROCHEREAU', 'nom_1_droite': 'PL DENFERT-ROCHEREAU', 'cpx_numero': '', 'cpx_toponyme': ''}}, 'distance': 23.7, 'duration': 0.14, 'instruction': {'type': 'continue', 'modifier': 'left'}}, {'geometry': {'coordinates': [[2.332355, 48.83419], [2.332507, 48.834221], [2.33256, 48.83424], [2.332617, 48.834267], [2.332674, 48.834299], [2.332716, 48.834336], [2.332768, 48.834413]], 'type': 'LineString'}, 'attributes': {'name': {'nom_1_gauche': 'PL DENFERT-ROCHEREAU', 'nom_1_droite': 'PL DENFERT-ROCHEREAU', 'cpx_numero': '', 'cpx_toponyme': ''}}, 'distance': 41.2, 'duration': 0.24833333333333335, 'instruction': {'type': 'continue', 'modifier': 'left'}}, {'geometry': {'coordinates': [[2.332768, 48.834413], [2.332747, 48.834461], [2.332718, 48.834494], [2.332676, 48.834523], [2.332617, 48.834545]], 'type': 'LineString'}, 'attributes': {'name': {'nom_1_gauche': 'PL DENFERT-ROCHEREAU', 'nom_1_droite': 'PL DENFERT-ROCHEREAU', 'cpx_numero': '', 'cpx_toponyme': ''}}, 'distance': 19.2, 'duration': 0.12666666666666665, 'instruction': {'type': 'continue', 'modifier': 'left'}}, {'geometry': {'coordinates': [[2.332617, 48.834545], [2.332765, 48.8347], [2.332886, 48.834828], [2.332998, 48.834961], [2.333061, 48.835037], [2.333243, 48.835247], [2.333502, 48.835546], [2.334056, 48.836117], [2.33417, 48.836228], [2.334315, 48.836373], [2.334476, 48.836536], [2.33464, 48.836704], [2.334876, 48.836939], [2.33543, 48.837511], [2.335587, 48.837667]], 'type': 'LineString'}, 'attributes': {'name': {'nom_1_gauche': 'AV DENFERT-ROCHEREAU', 'nom_1_droite': 'AV DENFERT-ROCHEREAU', 'cpx_numero': '', 'cpx_toponyme': ''}}, 'distance': 409.8, 'duration': 1.1683333333333332, 'instruction': {'type': 'turn', 'modifier': 'right'}}, {'geometry': {'coordinates': [[2.335587, 48.837667], [2.335703, 48.837625], [2.33652, 48.837324]], 'type': 'LineString'}, 'attributes': {'name': {'nom_1_gauche': 'R CASSINI', 'nom_1_droite': 'R CASSINI', 'cpx_numero': '', 'cpx_toponyme': ''}}, 'distance': 78.2, 'duration': 0.48333333333333334, 'instruction': {'type': 'turn', 'modifier': 'right'}}, {'geometry': {'coordinates': [[2.33652, 48.837324], [2.33652, 48.837324]], 'type': 'LineString'}, 'attributes': {'name': {'nom_1_gauche': 'R CASSINI', 'nom_1_droite': 'R CASSINI', 'cpx_numero': '', 'cpx_toponyme': ''}}, 'distance': 0, 'duration': 0, 'instruction': {'type': 'arrive'}}]}]}\n",
      "Distance : 1969.7 mètres, Durée :6.33 minutes\n"
     ]
    }
   ],
   "source": [
    "import requests\n",
    "import json\n",
    "(lng_origine, lat_origine) = (2.36815, 48.74991)\n",
    "(lng_destination, lat_destination) = (2.33969, 48.84563)\n",
    "try:\n",
    "    r= requests.get(f\"https://wxs.ign.fr/essentiels/geoportail/itineraire/rest/1.0.0/route?resource=bdtopo-osrm&start={lng_2},{lat_2}&end={lng_3},{lat_3}\").json()\n",
    "    print(r)\n",
    "    print(f\"Distance : {r['distance']} mètres, Durée :{r['duration']} minutes\")\n",
    "except Exception:\n",
    "    print(f'erreur requete !')"
   ]
  },
  {
   "cell_type": "code",
   "execution_count": 30,
   "id": "c097de4e-a07d-41b3-a1e4-7fa61c571f96",
   "metadata": {},
   "outputs": [
    {
     "name": "stdout",
     "output_type": "stream",
     "text": [
      "erreur requete !\n"
     ]
    }
   ],
   "source": [
    "T=[[2.36815, 48.74991],[2.33969, 48.84563],[2.33650, 48.83730], [2.32698, 48.83320],[2.32159, 48.84117],[2.29991, 48.84126]]\n",
    "try:\n",
    "    r=request.get(f\"https://wxs.ign.fr/essentiels/geoportail/itineraire/rest/1.0.0/route?resource=bdtopo-osrm&start={lng_origine},{lat_origine}&end={lng_destination},{lat_destination}\").json()\n",
    "    print(f\"Distance : {r['distance']} mètres, Durée :{r['duration']} minutes\")\n",
    "except Exception:\n",
    "    print(f'erreur requete !')    "
   ]
  },
  {
   "cell_type": "code",
   "execution_count": 27,
   "id": "8cf5f410-7272-4def-adb7-6bc282bef9b8",
   "metadata": {},
   "outputs": [
    {
     "name": "stdout",
     "output_type": "stream",
     "text": [
      "2.36815\n",
      "48.74991\n",
      "2.33969\n",
      "48.84563\n"
     ]
    }
   ],
   "source": [
    "print(T[0][0])\n",
    "print(T[0][1])\n",
    "print(T[1][0])\n",
    "print(T[1][1])"
   ]
  },
  {
   "cell_type": "code",
   "execution_count": 63,
   "id": "09c51801-612f-4d3f-86ef-ecbff08af8a7",
   "metadata": {},
   "outputs": [
    {
     "name": "stdout",
     "output_type": "stream",
     "text": [
      "[(1, 2, {13975.7}), (1, 3, {13106.1}), (1, 4, {12522.7}), (1, 5, {13523.8}), (1, 6, {15536.1}), (2, 3, {1969.7}), (2, 4, {2204.5}), (2, 5, {2178.6}), (2, 6, {3822.1}), (3, 4, {1835.3}), (3, 5, {1762.9}), (3, 6, {3406.5}), (4, 5, {1657}), (4, 6, {3613.3}), (5, 6, {2558})]\n"
     ]
    }
   ],
   "source": [
    "(lng_1, lat_1) = (2.36815, 48.74991)\n",
    "(lng_2, lat_2) = (2.33969, 48.84563)\n",
    "(lng_3, lat_3) = (2.33650, 48.83730)\n",
    "(lng_4, lat_4) = (2.32698, 48.83320)\n",
    "(lng_5, lat_5) = (2.32159, 48.84117)\n",
    "(lng_6, lat_6) = (2.29991, 48.84126)\n",
    "T=[[lng_1,lat_1],[lng_2,lat_2],[lng_3,lat_3],[lng_4,lat_4],[lng_5,lat_5],[lng_6,lat_6]]\n",
    "L=[]\n",
    "\n",
    "for l in range(5):\n",
    "    for k in range(l,6):\n",
    "        if l!=k:\n",
    "            try:\n",
    "                r= requests.get(f\"https://wxs.ign.fr/essentiels/geoportail/itineraire/rest/1.0.0/route?resource=bdtopo-osrm&start={T[l][0]},{T[l][1]}&end={T[k][0]},{T[k][1]}\").json()\n",
    "                #print(f\"Distance : {r['distance']} mètres, Durée :{r['duration']} minutes\")\n",
    "            except Exception:\n",
    "                print(f'erreur requete !')\n",
    "            L.append((l+1,k+1, {r['distance']}))\n",
    "print(L)\n",
    "        \n"
   ]
  },
  {
   "cell_type": "code",
   "execution_count": null,
   "id": "94c82e74-61ed-4f39-b288-45178b1642dc",
   "metadata": {},
   "outputs": [],
   "source": []
  }
 ],
 "metadata": {
  "kernelspec": {
   "display_name": "Python 3 (ipykernel)",
   "language": "python",
   "name": "python3"
  },
  "language_info": {
   "codemirror_mode": {
    "name": "ipython",
    "version": 3
   },
   "file_extension": ".py",
   "mimetype": "text/x-python",
   "name": "python",
   "nbconvert_exporter": "python",
   "pygments_lexer": "ipython3",
   "version": "3.11.4"
  }
 },
 "nbformat": 4,
 "nbformat_minor": 5
}
